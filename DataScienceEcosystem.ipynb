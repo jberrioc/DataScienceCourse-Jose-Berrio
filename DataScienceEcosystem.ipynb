{
 "cells": [
  {
   "cell_type": "markdown",
   "id": "c442a26a",
   "metadata": {},
   "source": [
    "## Author\n",
    "José Berrio Carrasco."
   ]
  },
  {
   "cell_type": "markdown",
   "id": "c5f05e0d",
   "metadata": {},
   "source": [
    "# Data Science Tools and Ecosystem"
   ]
  },
  {
   "cell_type": "markdown",
   "id": "37a2bc92",
   "metadata": {},
   "source": [
    "In this notebook, Data Science Tools and Ecosystem are summarized."
   ]
  },
  {
   "cell_type": "markdown",
   "id": "452f1b93",
   "metadata": {},
   "source": [
    "**Objectives**:\n",
    "- List popular languages for Data Science.\n",
    "- List some of the commonly used libraries used by Data Scientist.\n",
    "- List some of Data Science Tools."
   ]
  },
  {
   "cell_type": "markdown",
   "id": "9ce5c6df",
   "metadata": {},
   "source": [
    "Some of the popular languages that Data Scientists use are:\n",
    " 1. Python\n",
    " 2. R\n",
    " 3. Sql"
   ]
  },
  {
   "cell_type": "markdown",
   "id": "21659b97",
   "metadata": {},
   "source": [
    "Some of the commonly used libraries used by Data Scientists include:\n",
    "- Numpy\n",
    "- Pandas\n",
    "- Matplotlib"
   ]
  },
  {
   "cell_type": "markdown",
   "id": "3e9d8904",
   "metadata": {},
   "source": [
    "Data Science Tools:\n",
    "\n",
    "|Data Science Tools|\n",
    "| :- |\n",
    "| Jupyter Notebook|\n",
    "| JupyterLab|\n",
    "| RStudio |"
   ]
  },
  {
   "cell_type": "markdown",
   "id": "e3ca443d",
   "metadata": {},
   "source": [
    "### Below are a few examples of evaluating arithmetic expressions in Python."
   ]
  },
  {
   "cell_type": "code",
   "execution_count": 8,
   "id": "8c29b19f",
   "metadata": {},
   "outputs": [
    {
     "data": {
      "text/plain": [
       "17"
      ]
     },
     "execution_count": 8,
     "metadata": {},
     "output_type": "execute_result"
    }
   ],
   "source": [
    "#This a simple arithmetic expression to mutiply then add integers\n",
    "(4*3)+5"
   ]
  },
  {
   "cell_type": "code",
   "execution_count": 9,
   "id": "d0a9db64",
   "metadata": {},
   "outputs": [
    {
     "name": "stdout",
     "output_type": "stream",
     "text": [
      "Ingrese los minutos: 200\n",
      "Hora:  3  minutos:  20\n"
     ]
    }
   ],
   "source": [
    "#This will convert 200 minutes to hours by diving by 60\n",
    "dato= int(input(\"Ingrese los minutos: \"))\n",
    "hora = dato//60 \n",
    "minutos = dato % 60 \n",
    "print('Hora: ', hora, ' minutos: ', minutos)"
   ]
  }
 ],
 "metadata": {
  "kernelspec": {
   "display_name": "Python 3 (ipykernel)",
   "language": "python",
   "name": "python3"
  },
  "language_info": {
   "codemirror_mode": {
    "name": "ipython",
    "version": 3
   },
   "file_extension": ".py",
   "mimetype": "text/x-python",
   "name": "python",
   "nbconvert_exporter": "python",
   "pygments_lexer": "ipython3",
   "version": "3.11.5"
  }
 },
 "nbformat": 4,
 "nbformat_minor": 5
}
